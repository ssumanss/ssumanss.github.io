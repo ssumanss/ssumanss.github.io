{
 "cells": [
  {
   "cell_type": "code",
   "execution_count": 1,
   "metadata": {},
   "outputs": [],
   "source": [
    "import numpy as np\n",
    "import sympy as sp\n",
    "import matplotlib.pyplot as plt\n",
    "from IPython.display import display, Markdown, Math\n",
    "\n",
    "sp.init_printing()"
   ]
  },
  {
   "cell_type": "markdown",
   "metadata": {},
   "source": [
    "Solve the following optimization problem\n",
    "$$\n",
    "\\begin{alignat*}{2}\n",
    "    & \\text{maximize: } && xy \\\\\n",
    "    & \\text{subject to: } && \n",
    "        \\begin{aligned}[t]\n",
    "             x+y^2 &\\leq 2\\\\\n",
    "            x,y &\\geq 0 \n",
    "        \\end{aligned}\n",
    "\\end{alignat*}\n",
    "$$   \n",
    "\n",
    "\n",
    "### Step I\n",
    "\n",
    "We try to draw the feasible region."
   ]
  },
  {
   "cell_type": "code",
   "execution_count": 51,
   "metadata": {},
   "outputs": [
    {
     "data": {
      "image/png": "[encoded data removed]",
      "text/plain": [
       "<Figure size 640x480 with 1 Axes>"
      ]
     },
     "metadata": {},
     "output_type": "display_data"
    }
   ],
   "source": [
    "%matplotlib inline\n",
    "plt.figure(num=None, figsize=(8, 6), dpi=80, facecolor='w', edgecolor='k')\n",
    "plt.rcParams.update({'font.size': 14})\n",
    "\n",
    "# plot the feasible region\n",
    "d = np.linspace(0,3,300)\n",
    "x,y = np.meshgrid(d,d)\n",
    "plt.imshow( ((x+y**2<=2) & (y>=0) & (x>=0)).astype(int) , \n",
    "                extent=(x.min(),x.max(),y.min(),y.max()),origin=\"lower\", cmap=\"Greys\", alpha = 0.3);\n",
    "\n",
    "# plot the lines defining the constraints\n",
    "x1 = np.linspace(0, 2, 100)\n",
    "x = np.linspace(0, 3, 100)\n",
    "y1 = np.sqrt(2 - x1)\n",
    "y4 = x*0+0.01\n",
    "\n",
    "# Annotation\n",
    "plt.annotate('$A$', (0.1, 1.5))\n",
    "plt.annotate('$B$', (2.1, 0.1))\n",
    "plt.annotate('$O$', (0.1, 0.1))\n",
    "\n",
    "# Make plot\n",
    "plt.plot(x1, y1, label=r'$x+y^2\\leq2$', linewidth=3)\n",
    "plt.axvline(0.01, 0, 1, label=r'$x\\geq0$', color='m', linewidth=3)\n",
    "plt.plot(x, y4, label=r'$y\\geq0$', color='c', linewidth=3)\n",
    "plt.xlim(0,3)\n",
    "plt.ylim(0,2)\n",
    "plt.legend(bbox_to_anchor=(1.05, 1), loc=2, borderaxespad=0.)\n",
    "plt.xlabel(r'$x$')\n",
    "plt.ylabel(r'$y$')\n",
    "plt.xticks(range(0,3))\n",
    "plt.yticks(range(0,2))\n",
    "\n",
    "# Maxima\n",
    "plt.scatter(4/3, np.sqrt(2/3), color='r')\n",
    "plt.annotate('Maximum', (4/3+0.1, np.sqrt(2/3)))\n",
    "plt.show()"
   ]
  },
  {
   "cell_type": "markdown",
   "metadata": {},
   "source": [
    "### Step II\n",
    "\n",
    "Defining variable and functions."
   ]
  },
  {
   "cell_type": "code",
   "execution_count": 35,
   "metadata": {},
   "outputs": [
    {
     "data": {
      "text/latex": [
       "$\\displaystyle \n",
       "f = x y\\\\\n",
       "g_1 = - x - y^{2} + 2\\\\\n",
       "g_2 = y\\\\\n",
       "g_3 = x\n",
       "$"
      ],
      "text/plain": [
       "<IPython.core.display.Math object>"
      ]
     },
     "metadata": {},
     "output_type": "display_data"
    }
   ],
   "source": [
    "x, y = sp.var('x,y',real=True);\n",
    "f = x*y\n",
    "g1 = 2 - x - y**2\n",
    "g2 = y\n",
    "g3 = x\n",
    "display(Math(\n",
    "rf\"\"\"\n",
    "f = {sp.latex(f)}\\\\\n",
    "g_1 = {sp.latex(g1)}\\\\\n",
    "g_2 = {sp.latex(g2)}\\\\\n",
    "g_3 = {sp.latex(g3)}\n",
    "\"\"\"))"
   ]
  },
  {
   "cell_type": "markdown",
   "metadata": {},
   "source": [
    "### Step III\n",
    "\n",
    "Forming the Lagrangian."
   ]
  },
  {
   "cell_type": "code",
   "execution_count": 52,
   "metadata": {},
   "outputs": [
    {
     "data": {
      "text/markdown": [
       "The lagrangian $L=\\lambda_{1} \\left(- x - y^{2} + 2\\right) + \\lambda_{2} y + \\lambda_{3} x + \\lambda_{4} x + x y$"
      ],
      "text/plain": [
       "<IPython.core.display.Markdown object>"
      ]
     },
     "metadata": {},
     "output_type": "display_data"
    }
   ],
   "source": [
    "lam1 = sp.symbols('lambda_1', real = True)\n",
    "lam2 = sp.symbols('lambda_2', real = True)\n",
    "lam3 = sp.symbols('lambda_3', real = True)\n",
    "L = f + lam1 * g1 + lam2 * g2 + lam3 * g3 + lam4 * g4\n",
    "display(Markdown(rf\"The lagrangian $L={sp.latex(L)}$\"))"
   ]
  },
  {
   "cell_type": "markdown",
   "metadata": {},
   "source": [
    "### Step IV\n",
    "\n",
    "We will find the KKT equations, here we first solve only equalities. Later we use inequalities to remove extra points. "
   ]
  },
  {
   "cell_type": "code",
   "execution_count": 38,
   "metadata": {},
   "outputs": [
    {
     "data": {
      "text/latex": [
       "$\\displaystyle - \\lambda_{1} + \\lambda_{3} + y= 0 \\\\- 2 \\lambda_{1} y + \\lambda_{2} + x= 0 \\\\\\lambda_{1} \\left(- x - y^{2} + 2\\right)= 0 \\\\\\lambda_{2} y= 0 \\\\\\lambda_{3} x= 0 \\\\$"
      ],
      "text/plain": [
       "<IPython.core.display.Math object>"
      ]
     },
     "metadata": {},
     "output_type": "display_data"
    }
   ],
   "source": [
    "gradL = [sp.diff(L,c) for c in [x,y]] # gradient of Lagrangian w.r.t. (x,y)\n",
    "KKT_eqs = gradL + [lam1 * g1, lam2 * g2, lam3 * g3]\n",
    "\n",
    "expr = \"\"\n",
    "for i in KKT_eqs:\n",
    "    expr += sp.latex(i) + \"= 0 \\\\\\\\\"\n",
    "    \n",
    "display(Math(expr))"
   ]
  },
  {
   "cell_type": "code",
   "execution_count": 41,
   "metadata": {},
   "outputs": [
    {
     "data": {
      "text/markdown": [
       "|$x$|$y$|$\\lambda_{1}$|$\\lambda_{2}$|$\\lambda_{3}$|Obj|\n",
       "|---|---|---|---|---|------|\n",
       "|$0$|$0$|$0$|$0$|$0$|$0$|\n",
       "|$\\frac{4}{3}$|$- \\frac{\\sqrt{6}}{3}$|$- \\frac{\\sqrt{6}}{3}$|$0$|$0$|$- \\frac{4 \\sqrt{6}}{9}$|\n",
       "|$\\frac{4}{3}$|$\\frac{\\sqrt{6}}{3}$|$\\frac{\\sqrt{6}}{3}$|$0$|$0$|$\\frac{4 \\sqrt{6}}{9}$|\n"
      ],
      "text/plain": [
       "<IPython.core.display.Markdown object>"
      ]
     },
     "metadata": {},
     "output_type": "display_data"
    }
   ],
   "source": [
    "stationary_points = sp.solve(KKT_eqs, [x, y, lam1, lam2, lam3], dict=True) # solve the KKT equations\n",
    "stationary_points \n",
    "\n",
    "table = f\"|$x$|$y$|${sp.latex(lam1)}$|${sp.latex(lam2)}$|${sp.latex(lam3)}$|Obj|\\n\"\\\n",
    "       +\"|---|---|---|---|---|------|\\n\"\n",
    "for i in stationary_points:\n",
    "    table += \"|$\" + sp.latex(i[x]) \\\n",
    "          + \"$|$\" + sp.latex(i[y]) \\\n",
    "          + \"$|$\" + sp.latex(i[lam1]) \\\n",
    "          + \"$|$\" + sp.latex(i[lam2]) \\\n",
    "          + \"$|$\" + sp.latex(i[lam3]) \\\n",
    "          + \"$|$\" + sp.latex(f.subs(i)) \\\n",
    "          + \"$|\\n\"\n",
    "\n",
    "display(Markdown(table))"
   ]
  },
  {
   "cell_type": "markdown",
   "metadata": {},
   "source": [
    "**Conclusion:** Since $\\lambda$'s must be nonnegative, hence we have to discard the second point. As both the point lies in the feasible region, they are local maxima, but the second point is global maxima."
   ]
  }
 ],
 "metadata": {
  "hide_input": false,
  "kernelspec": {
   "display_name": "Python 3",
   "language": "python",
   "name": "python3"
  },
  "language_info": {
   "codemirror_mode": {
    "name": "ipython",
    "version": 3
   },
   "file_extension": ".py",
   "mimetype": "text/x-python",
   "name": "python",
   "nbconvert_exporter": "python",
   "pygments_lexer": "ipython3",
   "version": "3.7.2"
  }
 },
 "nbformat": 4,
 "nbformat_minor": 4
}
