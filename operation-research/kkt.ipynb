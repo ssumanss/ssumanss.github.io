{
 "cells": [
  {
   "cell_type": "code",
   "execution_count": 12,
   "metadata": {},
   "outputs": [],
   "source": [
    "import numpy as np\n",
    "import sympy as sp\n",
    "import matplotlib.pyplot as plt\n",
    "from IPython.display import display, Markdown, Math\n",
    "\n",
    "sp.init_printing()"
   ]
  },
  {
   "cell_type": "markdown",
   "metadata": {},
   "source": [
    "Solve the following optimization problem\n",
    "$$\n",
    "\\begin{alignat*}{2}\n",
    "    & \\text{minimize: } && xy \\\\\n",
    "    & \\text{subject to: } && \n",
    "        \\begin{aligned}[t]\n",
    "            x+2y &\\leq 8\\\\\n",
    "            \\dfrac{x^2}{16}+1 &\\leq y \\\\\n",
    "            x &\\geq 0 \\\\\n",
    "            0 \\leq y &\\leq 3\n",
    "        \\end{aligned}\n",
    "\\end{alignat*}\n",
    "$$   "
   ]
  },
  {
   "cell_type": "code",
   "execution_count": 13,
   "metadata": {},
   "outputs": [
    {
     "data": {
      "image/png": "[encoded data removed]",
      "text/plain": [
       "<Figure size 640x480 with 1 Axes>"
      ]
     },
     "metadata": {},
     "output_type": "display_data"
    }
   ],
   "source": [
    "%matplotlib inline\n",
    "plt.figure(num=None, figsize=(8, 6), dpi=80, facecolor='w', edgecolor='k')\n",
    "plt.rcParams.update({'font.size': 14})\n",
    "\n",
    "# plot the feasible region\n",
    "d = np.linspace(0,4,300)\n",
    "x,y = np.meshgrid(d,d)\n",
    "plt.imshow( ((y<=3) & (x+2*y<=8) & (x**2/16+1<=y) & (x>=0)).astype(int) , \n",
    "                extent=(x.min(),x.max(),y.min(),y.max()),origin=\"lower\", cmap=\"Greys\", alpha = 0.3);\n",
    "\n",
    "# plot the lines defining the constraints\n",
    "x = np.linspace(0, 5, 100)\n",
    "# y >= 2\n",
    "y1 = (x*0) + 3\n",
    "# 2y <= 25 - x\n",
    "y2 = 4-x/2\n",
    "# 4y >= 2x - 8 \n",
    "y3 = x**2/16+1\n",
    "# y <= 2x - 5 \n",
    "y4 = x*0+0.01\n",
    "\n",
    "# Annotation\n",
    "plt.annotate('$A$', (0.1, 3.1))\n",
    "plt.annotate('$B$', (2, 3.1))\n",
    "plt.annotate('$C$', (3.9, 1.8))\n",
    "plt.annotate('$D$', (0.1, 0.8))\n",
    "\n",
    "# Make plot\n",
    "plt.plot(x, y1, label=r'$y\\leq3$', linewidth=3)\n",
    "plt.plot(x, y2, label=r'$x+2y\\leq8$', linewidth=3)\n",
    "plt.plot(x, y3, label=r'$\\dfrac{x^2}{16}+1\\leq y$', linewidth=3)\n",
    "plt.axvline(0.01, 0, 4, label=r'$x\\geq0$', color='m', linewidth=3)\n",
    "plt.plot(x, y4, label=r'$y\\geq0$', color='c', linewidth=3)\n",
    "plt.xlim(0,5)\n",
    "plt.ylim(0,4)\n",
    "plt.legend(bbox_to_anchor=(1.05, 1), loc=2, borderaxespad=0.)\n",
    "plt.xlabel(r'$x$')\n",
    "plt.ylabel(r'$y$')\n",
    "plt.yticks(range(0,5))\n",
    "plt.show()"
   ]
  },
  {
   "cell_type": "markdown",
   "metadata": {},
   "source": [
    "We can see that the constraint $y\\geq 0$ is not active. So we don't have to include this constraint in our solution.\n",
    "\n",
    "### Case I\n",
    "\n",
    "First we search for critical points in the interior of the region."
   ]
  },
  {
   "cell_type": "code",
   "execution_count": 40,
   "metadata": {},
   "outputs": [
    {
     "data": {
      "text/latex": [
       "$\\displaystyle \n",
       "f = x y\\\\\n",
       "g_1 = - y + 3\\\\\n",
       "g_2 = - x - 2 y + 8\\\\\n",
       "g_3 = - \\frac{x^{2}}{16} + y - 1\\\\\n",
       "g_4 = x\n",
       "$"
      ],
      "text/plain": [
       "<IPython.core.display.Math object>"
      ]
     },
     "metadata": {},
     "output_type": "display_data"
    }
   ],
   "source": [
    "x, y = sp.var('x,y',real=True);\n",
    "f = x*y\n",
    "g1 = 3 - y\n",
    "g2 = 8 - x - 2*y\n",
    "g3 = y - x**2/16 - 1\n",
    "g4 = x\n",
    "display(Math(\n",
    "rf\"\"\"\n",
    "f = {sp.latex(f)}\\\\\n",
    "g_1 = {sp.latex(g1)}\\\\\n",
    "g_2 = {sp.latex(g2)}\\\\\n",
    "g_3 = {sp.latex(g3)}\\\\\n",
    "g_4 = {sp.latex(g4)}\n",
    "\"\"\"))"
   ]
  },
  {
   "cell_type": "code",
   "execution_count": 36,
   "metadata": {},
   "outputs": [
    {
     "data": {
      "text/markdown": [
       "The lagrangian $L=\\lambda_{1} \\left(- y + 3\\right) + \\lambda_{2} \\left(- x - 2 y + 8\\right) + \\lambda_{3} \\left(- \\frac{x^{2}}{16} + y - 1\\right) + \\lambda_{4} x + x y$"
      ],
      "text/plain": [
       "<IPython.core.display.Markdown object>"
      ]
     },
     "metadata": {},
     "output_type": "display_data"
    }
   ],
   "source": [
    "lam1 = sp.symbols('lambda_1', real = True)\n",
    "lam2 = sp.symbols('lambda_2', real = True)\n",
    "lam3 = sp.symbols('lambda_3', real = True)\n",
    "lam4 = sp.symbols('lambda_4', real = True)\n",
    "L = f + lam1 * g1 + lam2 * g2 + lam3 * g3 + lam4 * g4\n",
    "display(Markdown(rf\"The lagrangian $L={sp.latex(L)}$\"))"
   ]
  },
  {
   "cell_type": "code",
   "execution_count": 37,
   "metadata": {},
   "outputs": [
    {
     "data": {
      "text/latex": [
       "$\\displaystyle - \\lambda_{2} - \\frac{\\lambda_{3} x}{8} + \\lambda_{4} + y= 0 \\\\- \\lambda_{1} - 2 \\lambda_{2} + \\lambda_{3} + x= 0 \\\\\\lambda_{1} \\left(- y + 3\\right)= 0 \\\\\\lambda_{2} \\left(- x - 2 y + 8\\right)= 0 \\\\\\lambda_{3} \\left(- \\frac{x^{2}}{16} + y - 1\\right)= 0 \\\\\\lambda_{4} x= 0 \\\\$"
      ],
      "text/plain": [
       "<IPython.core.display.Math object>"
      ]
     },
     "metadata": {},
     "output_type": "display_data"
    }
   ],
   "source": [
    "gradL = [sp.diff(L,c) for c in [x,y]] # gradient of Lagrangian w.r.t. (x,y)\n",
    "KKT_eqs = gradL + [lam1 * g1, lam2 * g2, lam3 * g3, lam4 * g4]\n",
    "\n",
    "expr = \"\"\n",
    "for i in KKT_eqs:\n",
    "    expr += sp.latex(i) + \"= 0 \\\\\\\\\"\n",
    "    \n",
    "display(Math(expr))"
   ]
  },
  {
   "cell_type": "code",
   "execution_count": 38,
   "metadata": {},
   "outputs": [
    {
     "data": {
      "text/markdown": [
       "|$x$|$y$|$\\lambda_{1}$|$\\lambda_{2}$|$\\lambda_{3}$|$\\lambda_{4}$|Obj|\n",
       "|---|---|---|---|---|---|---|\n",
       "|$0$|$4$|$0$|$0$|$0$|$-4$|$0$|\n",
       "|$0$|$3$|$0$|$0$|$0$|$-3$|$0$|\n",
       "|$0$|$1$|$0$|$0$|$0$|$-1$|$0$|\n",
       "|$0$|$0$|$0$|$0$|$0$|$0$|$0$|\n"
      ],
      "text/plain": [
       "<IPython.core.display.Markdown object>"
      ]
     },
     "metadata": {},
     "output_type": "display_data"
    }
   ],
   "source": [
    "stationary_points = sp.solve(KKT_eqs, [x, y, lam1, lam2, lam3, lam4], dict=True) # solve the KKT equations\n",
    "stationary_points \n",
    "\n",
    "table = f\"|$x$|$y$|${sp.latex(lam1)}$|${sp.latex(lam2)}$|${sp.latex(lam3)}$|${sp.latex(lam4)}$|Obj|\\n\"\\\n",
    "       +\"|---|---|---|---|---|---|---|\\n\"\n",
    "for i in stationary_points:\n",
    "    table += \"|$\" + str(i[x]) \\\n",
    "          + \"$|$\" + str(i[y]) \\\n",
    "          + \"$|$\" + str(i[lam1]) \\\n",
    "          + \"$|$\" + str(i[lam2]) \\\n",
    "          + \"$|$\" + str(i[lam3]) \\\n",
    "          + \"$|$\" + str(i[lam4]) \\\n",
    "          + \"$|$\" + str(f.subs(i)) \\\n",
    "          + \"$|\\n\"\n",
    "\n",
    "display(Markdown(table))"
   ]
  }
 ],
 "metadata": {
  "hide_input": false,
  "kernelspec": {
   "display_name": "Python 3",
   "language": "python",
   "name": "python3"
  },
  "language_info": {
   "codemirror_mode": {
    "name": "ipython",
    "version": 3
   },
   "file_extension": ".py",
   "mimetype": "text/x-python",
   "name": "python",
   "nbconvert_exporter": "python",
   "pygments_lexer": "ipython3",
   "version": "3.7.2"
  }
 },
 "nbformat": 4,
 "nbformat_minor": 4
}
