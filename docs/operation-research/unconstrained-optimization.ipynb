{
 "cells": [
  {
   "cell_type": "code",
   "execution_count": 1,
   "metadata": {},
   "outputs": [],
   "source": [
    "from IPython.display import display, Markdown, Math\n",
    "import sympy as sp\n",
    "import numpy as np\n",
    "sp.init_printing()"
   ]
  },
  {
   "attachments": {},
   "cell_type": "markdown",
   "metadata": {},
   "source": [
    "Find the maxima of the following function\n",
    "\n",
    "$$f(x,y)=x^4 −x^2y+y^2 −3y+4$$\n",
    "\n",
    "### Step I\n",
    "\n",
    "Defining variable and function.\n",
    "\n",
    "```python\n",
    "x, y = sp.var('x,y',real=True);\n",
    "f = x**4 - x**2*y + y**2 - 3*y +4\n",
    "f\n",
    "```"
   ]
  },
  {
   "cell_type": "code",
   "execution_count": 16,
   "metadata": {},
   "outputs": [
    {
     "data": {
      "image/png": "[encoded data removed]",
      "text/latex": [
       "$\\displaystyle x^{4} - x^{2} y + y^{2} - 3 y + 4$"
      ],
      "text/plain": [
       " 4    2      2          \n",
       "x  - x ⋅y + y  - 3⋅y + 4"
      ]
     },
     "execution_count": 16,
     "metadata": {},
     "output_type": "execute_result"
    }
   ],
   "source": [
    "x, y = sp.var('x,y',real=True);\n",
    "f = x**4 - x**2*y + y**2 - 3*y +4\n",
    "f"
   ]
  },
  {
   "attachments": {},
   "cell_type": "markdown",
   "metadata": {},
   "source": [
    "### Step II\n",
    "\n",
    "Finding gradiant of the function. \n",
    "\n",
    "```python\n",
    "gradf = [sp.diff(f,c) for c in [x,y]] # gradient of Lagrangian w.r.t. (x,y)\n",
    "```"
   ]
  },
  {
   "cell_type": "code",
   "execution_count": 20,
   "metadata": {},
   "outputs": [
    {
     "data": {
      "image/png": "[encoded data removed]",
      "text/latex": [
       "$\\displaystyle 4 x^{3} - 2 x y$"
      ],
      "text/plain": [
       "   3        \n",
       "4⋅x  - 2⋅x⋅y"
      ]
     },
     "metadata": {},
     "output_type": "display_data"
    },
    {
     "data": {
      "image/png": "[encoded data removed]",
      "text/latex": [
       "$\\displaystyle - x^{2} + 2 y - 3$"
      ],
      "text/plain": [
       "   2          \n",
       "- x  + 2⋅y - 3"
      ]
     },
     "metadata": {},
     "output_type": "display_data"
    }
   ],
   "source": [
    "gradf = [sp.diff(f,c) for c in [x,y]] # gradient of Lagrangian w.r.t. (x,y)\n",
    "\n",
    "for i in gradf:\n",
    "    display(i)"
   ]
  },
  {
   "attachments": {},
   "cell_type": "markdown",
   "metadata": {},
   "source": [
    "### Step III\n",
    "\n",
    "Finding the criticlal points by setting the gradient equal to $0$. Critical points is obtained using\n",
    "\n",
    "```python\n",
    "stationary_points = sp.solve(gradf, [x, y], dict=True) # solve the KKT equations\n",
    "stationary_points \n",
    "```"
   ]
  },
  {
   "cell_type": "code",
   "execution_count": 5,
   "metadata": {},
   "outputs": [
    {
     "data": {
      "text/markdown": [
       "|$x$|$y$|Obj|\n",
       "|---|---|---|\n",
       "|$-1$|$2$|$1$|\n",
       "|$0$|$\\frac{3}{2}$|$\\frac{7}{4}$|\n",
       "|$1$|$2$|$1$|\n"
      ],
      "text/plain": [
       "<IPython.core.display.Markdown object>"
      ]
     },
     "metadata": {},
     "output_type": "display_data"
    }
   ],
   "source": [
    "stationary_points = sp.solve(gradf, [x, y], dict=True) # solve the KKT equations\n",
    "stationary_points \n",
    "\n",
    "table = \"|$x$|$y$|Obj|\\n|---|---|---|\\n\"\n",
    "for i in stationary_points:\n",
    "    table += \"|$\" + sp.latex(i[x]) \\\n",
    "          + \"$|$\" + sp.latex(i[y]) \\\n",
    "          + \"$|$\" + sp.latex(f.subs(i)) \\\n",
    "          + \"$|\\n\"\n",
    "\n",
    "display(Markdown(table))"
   ]
  },
  {
   "attachments": {},
   "cell_type": "markdown",
   "metadata": {},
   "source": [
    "### Step IV\n",
    "\n",
    "Computing the sign of the Hessian at each of the critical points. The Hessian is computed as\n",
    "\n",
    "```python\n",
    "H = sp.hessian(f, (x,y))\n",
    "H\n",
    "```"
   ]
  },
  {
   "cell_type": "code",
   "execution_count": 22,
   "metadata": {},
   "outputs": [
    {
     "data": {
      "image/png": "[encoded data removed]",
      "text/latex": [
       "$\\displaystyle \\left[\\begin{matrix}12 x^{2} - 2 y & - 2 x\\\\- 2 x & 2\\end{matrix}\\right]$"
      ],
      "text/plain": [
       "⎡    2            ⎤\n",
       "⎢12⋅x  - 2⋅y  -2⋅x⎥\n",
       "⎢                 ⎥\n",
       "⎣   -2⋅x       2  ⎦"
      ]
     },
     "execution_count": 22,
     "metadata": {},
     "output_type": "execute_result"
    }
   ],
   "source": [
    "H = sp.hessian(f, (x,y))\n",
    "H"
   ]
  },
  {
   "attachments": {},
   "cell_type": "markdown",
   "metadata": {},
   "source": [
    "The Eigenvalues of Hessina Matrix will determine weather a point is maxima or minima\n",
    "\n",
    "```python\n",
    "def sign(A):\n",
    "    d = A.eigenvals().keys()\n",
    "    if any(x >= 0 for x in d):\n",
    "        if any(x <= 0 for x in d):\n",
    "            return \"None\"\n",
    "        else:\n",
    "            return \"Minima\"\n",
    "    else:\n",
    "        return \"Maxima\"\n",
    "```"
   ]
  },
  {
   "cell_type": "code",
   "execution_count": 7,
   "metadata": {},
   "outputs": [],
   "source": [
    "def sign(A):\n",
    "    d = A.eigenvals().keys()\n",
    "    if any(x >= 0 for x in d):\n",
    "        if any(x <= 0 for x in d):\n",
    "            return \"None\"\n",
    "        else:\n",
    "            return \"Minima\"\n",
    "    else:\n",
    "        return \"Maxima\""
   ]
  },
  {
   "cell_type": "code",
   "execution_count": 23,
   "metadata": {},
   "outputs": [
    {
     "data": {
      "text/markdown": [
       "|$x$|$y$|Obj|Hessian|\n",
       "|---|---|---|------|\n",
       "|$-1$|$2$|$1$|Minima|\n",
       "|$0$|$\\frac{3}{2}$|$\\frac{7}{4}$|None|\n",
       "|$1$|$2$|$1$|Minima|\n"
      ],
      "text/plain": [
       "<IPython.core.display.Markdown object>"
      ]
     },
     "metadata": {},
     "output_type": "display_data"
    }
   ],
   "source": [
    "table = \"|$x$|$y$|Obj|Hessian|\\n\" \\\n",
    "       +\"|---|---|---|------|\\n\"\n",
    "for i in stationary_points:\n",
    "    table += \"|$\" + sp.latex(i[x]) + \"$|$\" \\\n",
    "                  + sp.latex(i[y]) + \"$|$\" \\\n",
    "                  + sp.latex(f.subs(i)) + \"$|\" \\\n",
    "                  + sign(H.subs(i)) + \"|\\n\"\n",
    "\n",
    "display(Markdown(table))"
   ]
  },
  {
   "cell_type": "markdown",
   "metadata": {},
   "source": [
    "**Conclusion:** The points $(-1,2)$ and $(1,2)$ are the local minima(which is also global) of the given function."
   ]
  }
 ],
 "metadata": {
  "hide_input": false,
  "kernelspec": {
   "display_name": "scicomp",
   "language": "python",
   "name": "python3"
  },
  "language_info": {
   "codemirror_mode": {
    "name": "ipython",
    "version": 3
   },
   "file_extension": ".py",
   "mimetype": "text/x-python",
   "name": "python",
   "nbconvert_exporter": "python",
   "pygments_lexer": "ipython3",
   "version": "3.9.6"
  },
  "vscode": {
   "interpreter": {
    "hash": "9b733d72b17296582f1bb5e80a1d85270ec152e004798ee39c967e4424e61c85"
   }
  }
 },
 "nbformat": 4,
 "nbformat_minor": 4
}
