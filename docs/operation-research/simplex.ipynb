{
 "cells": [
  {
   "cell_type": "code",
   "execution_count": 1,
   "metadata": {},
   "outputs": [],
   "source": [
    "from IPython.display import display, Markdown, Math\n",
    "import sympy as sp\n",
    "import numpy as np\n",
    "sp.init_printing()"
   ]
  },
  {
   "cell_type": "markdown",
   "metadata": {},
   "source": [
    "Solve the following optimization problem\n",
    "$$\n",
    "\\begin{alignat*}{2}\n",
    "    & \\text{maximize: } && c^Tx \\\\\n",
    "    & \\text{subject to: } && \n",
    "        \\begin{aligned}[t]\n",
    "             Ax &\\leq b\\\\\n",
    "              x &\\geq 0 \n",
    "        \\end{aligned}\n",
    "\\end{alignat*}\n",
    "$$   \n",
    "\n",
    "\n",
    "### Concrete Problem\n",
    "\n",
    "$$\n",
    "\\begin{alignat*}{2}\n",
    "    & \\text{maximize: } && z = 2x + 3y\\\\\n",
    "    & \\text{subject to: } && \n",
    "        \\begin{aligned}[t]\n",
    "             x + 3y  &\\leq 12 \\\\\n",
    "            3x + 2y  &\\leq 12 \\\\\n",
    "              x, y &\\geq 0 \n",
    "        \\end{aligned}\n",
    "\\end{alignat*}\n",
    "$$   \n",
    "\n"
   ]
  },
  {
   "cell_type": "code",
   "execution_count": 2,
   "metadata": {},
   "outputs": [],
   "source": [
    "# important functions\n",
    "def create_table(T, basic):\n",
    "\n",
    "    # creating table header\n",
    "    no_var = len(var)\n",
    "    table = \"|Basic|\"\n",
    "    for i in range(no_var):\n",
    "        table += \"$\" + sp.latex(var[i]) + \"$|\"\n",
    "\n",
    "    table += \"Solution|Ratio|\\n\" + \"|-----\" * (no_var + 3) + \"|\\n\"\n",
    "\n",
    "\n",
    "    no_rows = len(basic)\n",
    "    for i in range(no_rows):\n",
    "        table += \"|$\" + sp.latex(basic[i]) \n",
    "        for j in T.row(i):\n",
    "            table += \"$|$\" + sp.latex(j)\n",
    "\n",
    "\n",
    "        table += \"$|\\n\"\n",
    "\n",
    "\n",
    "    return display(Markdown(table))\n",
    "\n",
    "def ratio_analysis(T, basic, y):\n",
    "    entering_var = y\n",
    "    entering_index = var.index(entering_var)\n",
    "\n",
    "    # creating table header\n",
    "    no_var = len(var)\n",
    "    table = \"|Basic|\"\n",
    "    for i in range(no_var):\n",
    "        table += \"$\" + sp.latex(var[i]) + \"$|\"\n",
    "\n",
    "    table += \"Solution|Ratio|\\n\" + \"|-----\" * (no_var + 3) + \"|\\n\"\n",
    "    \n",
    "    no_rows = len(basic)\n",
    "    for i in range(no_rows):\n",
    "        table += \"|$\" + sp.latex(basic[i]) \n",
    "        for j in T.row(i):\n",
    "            table += \"$|$\" + sp.latex(j)\n",
    "\n",
    "\n",
    "        table += \"$|$\" \\\n",
    "               + sp.latex(T.row(i)[-1]/T.row(i)[entering_index]) \\\n",
    "               + \"$|\\n\"\n",
    "\n",
    "\n",
    "    return display(Markdown(table)) \n",
    "\n",
    "\n",
    "def pivoting(T, basic, entering_var, leaving_var):\n",
    "    entering_index = var.index(entering_var)\n",
    "\n",
    "    leaving_index = basic.index(leaving_var)\n",
    "    new_basic = basic.copy()\n",
    "    new_basic[leaving_index] = entering_var\n",
    "\n",
    "    no_rows = len(basic)\n",
    "    \n",
    "    T = T.elementary_row_op('n->kn', \\\n",
    "                            row1=leaving_index, \\\n",
    "                            k=1/T[leaving_index, entering_index])\n",
    "    \n",
    "    for i in range(no_rows):\n",
    "        if i is not leaving_index:\n",
    "            T = T.elementary_row_op('n->n+km',\\\n",
    "                                    row1=i, \\\n",
    "                                    row2=leaving_index, \\\n",
    "                                    k=-T[i, entering_index])\n",
    "            \n",
    "    return(T, new_basic)"
   ]
  },
  {
   "cell_type": "markdown",
   "metadata": {},
   "source": [
    "### Step I\n",
    "\n",
    "Fromulating the problem and creating the first table for simplex algorithm."
   ]
  },
  {
   "cell_type": "code",
   "execution_count": 3,
   "metadata": {
    "scrolled": true
   },
   "outputs": [
    {
     "data": {
      "text/markdown": [
       "|Basic|$x$|$y$|$s_{1}$|$s_{2}$|Solution|Ratio|\n",
       "|-----|-----|-----|-----|-----|-----|-----|\n",
       "|$z$|$-2$|$-3$|$0$|$0$|$0$|\n",
       "|$s_{1}$|$1$|$3$|$1$|$0$|$12$|\n",
       "|$s_{2}$|$3$|$2$|$0$|$1$|$12$|\n"
      ],
      "text/plain": [
       "<IPython.core.display.Markdown object>"
      ]
     },
     "metadata": {},
     "output_type": "display_data"
    }
   ],
   "source": [
    "# problem description using matrix c, b and A\n",
    "A = sp.Matrix([[1, 3], [3, 2]]);\n",
    "c = sp.Matrix([-2, -3])\n",
    "b = sp.Matrix([0, 12, 12])\n",
    "\n",
    "# creating necessay data\n",
    "T1 = A.col_insert(2, sp.eye(2)).row_insert(0, c.row_insert(2, sp.zeros(2,1)).T).col_insert(4, b)\n",
    "x, y, z = sp.symbols(\"x y z\")\n",
    "s1, s2 = sp.symbols(\"s_1 s_2\")\n",
    "\n",
    "var = [x, y, s1, s2]\n",
    "basic1 = [z, s1, s2]\n",
    "\n",
    "create_table(T1, basic1)"
   ]
  },
  {
   "cell_type": "markdown",
   "metadata": {},
   "source": [
    "### Step II\n",
    "\n",
    "We have to choose an entering variable which will increase the value of objective. So we choose any variable with negative coefficient. Here we choose $y$. "
   ]
  },
  {
   "cell_type": "code",
   "execution_count": 4,
   "metadata": {
    "scrolled": true
   },
   "outputs": [
    {
     "data": {
      "text/markdown": [
       "|Basic|$x$|$y$|$s_{1}$|$s_{2}$|Solution|Ratio|\n",
       "|-----|-----|-----|-----|-----|-----|-----|\n",
       "|$z$|$-2$|$-3$|$0$|$0$|$0$|$0$|\n",
       "|$s_{1}$|$1$|$3$|$1$|$0$|$12$|$4$|\n",
       "|$s_{2}$|$3$|$2$|$0$|$1$|$12$|$6$|\n"
      ],
      "text/plain": [
       "<IPython.core.display.Markdown object>"
      ]
     },
     "metadata": {},
     "output_type": "display_data"
    }
   ],
   "source": [
    "ratio_analysis(T1, basic1, y)"
   ]
  },
  {
   "cell_type": "markdown",
   "metadata": {},
   "source": [
    "### Step III \n",
    "\n",
    "We have to choose a leaving variable based on ratio analysis. Here we choose the variable with least positive ratio. In this table $s_1$ has the least positive ratio, so it will leave. Now we have to perform the pivoting step."
   ]
  },
  {
   "cell_type": "code",
   "execution_count": 5,
   "metadata": {},
   "outputs": [],
   "source": [
    "T2, basic2 = pivoting(T1, basic1, y, s1)"
   ]
  },
  {
   "cell_type": "markdown",
   "metadata": {},
   "source": [
    "### Step IV\n",
    "\n",
    "After pivoting we get a new table. Where we can repreat the above steps again and again till the simplex algorithm terminate. In ideal case we get no entering varable. "
   ]
  },
  {
   "cell_type": "code",
   "execution_count": 6,
   "metadata": {},
   "outputs": [
    {
     "data": {
      "text/markdown": [
       "|Basic|$x$|$y$|$s_{1}$|$s_{2}$|Solution|Ratio|\n",
       "|-----|-----|-----|-----|-----|-----|-----|\n",
       "|$z$|$-1$|$0$|$1$|$0$|$12$|\n",
       "|$y$|$\\frac{1}{3}$|$1$|$\\frac{1}{3}$|$0$|$4$|\n",
       "|$s_{2}$|$\\frac{7}{3}$|$0$|$- \\frac{2}{3}$|$1$|$4$|\n"
      ],
      "text/plain": [
       "<IPython.core.display.Markdown object>"
      ]
     },
     "metadata": {},
     "output_type": "display_data"
    }
   ],
   "source": [
    "create_table(T2, basic2)"
   ]
  },
  {
   "cell_type": "code",
   "execution_count": 7,
   "metadata": {},
   "outputs": [
    {
     "data": {
      "text/markdown": [
       "|Basic|$x$|$y$|$s_{1}$|$s_{2}$|Solution|Ratio|\n",
       "|-----|-----|-----|-----|-----|-----|-----|\n",
       "|$z$|$-1$|$0$|$1$|$0$|$12$|$-12$|\n",
       "|$y$|$\\frac{1}{3}$|$1$|$\\frac{1}{3}$|$0$|$4$|$12$|\n",
       "|$s_{2}$|$\\frac{7}{3}$|$0$|$- \\frac{2}{3}$|$1$|$4$|$\\frac{12}{7}$|\n"
      ],
      "text/plain": [
       "<IPython.core.display.Markdown object>"
      ]
     },
     "metadata": {},
     "output_type": "display_data"
    }
   ],
   "source": [
    "ratio_analysis(T2, basic2, x)"
   ]
  },
  {
   "cell_type": "code",
   "execution_count": 8,
   "metadata": {},
   "outputs": [],
   "source": [
    "T3, basic3 = pivoting(T2, basic2, x, s2)"
   ]
  },
  {
   "cell_type": "code",
   "execution_count": 9,
   "metadata": {},
   "outputs": [
    {
     "data": {
      "text/markdown": [
       "|Basic|$x$|$y$|$s_{1}$|$s_{2}$|Solution|Ratio|\n",
       "|-----|-----|-----|-----|-----|-----|-----|\n",
       "|$z$|$0$|$0$|$\\frac{5}{7}$|$\\frac{3}{7}$|$\\frac{96}{7}$|\n",
       "|$y$|$0$|$1$|$\\frac{3}{7}$|$- \\frac{1}{7}$|$\\frac{24}{7}$|\n",
       "|$x$|$1$|$0$|$- \\frac{2}{7}$|$\\frac{3}{7}$|$\\frac{12}{7}$|\n"
      ],
      "text/plain": [
       "<IPython.core.display.Markdown object>"
      ]
     },
     "metadata": {},
     "output_type": "display_data"
    }
   ],
   "source": [
    "create_table(T3, basic3)"
   ]
  },
  {
   "cell_type": "markdown",
   "metadata": {},
   "source": [
    "Finally we got a table with all non-negaitve coefficient corresponding to $z$ variable. The solution of this problem is $96/7$ at the point $(12/7, 24/7)$"
   ]
  },
  {
   "cell_type": "markdown",
   "metadata": {},
   "source": [
    "### Problem 2\n",
    "\n",
    "Solve the following optimization problem.\n",
    "\n",
    "$$\n",
    "\\begin{alignat*}{2}\n",
    "    & \\text{maximize: } && z = 2x_1 + x_2 - 3x_3 + 5x_4 \\\\\n",
    "    & \\text{subject to: } && \n",
    "        \\begin{aligned}[t]\n",
    "             x_1 + 2x_2 + 2x_3 + 4x_4  &\\leq 40 \\\\\n",
    "            2x_1 -  x_2 +  x_3 + 2x_4  &\\leq  8 \\\\\n",
    "            4x_1 - 2x_2 +  x_3 -  x_4  &\\leq 10 \\\\\n",
    "                    x_1, x_2, x_3, x_4 &\\geq 0 \n",
    "        \\end{aligned}\n",
    "\\end{alignat*}\n",
    "$$   "
   ]
  },
  {
   "cell_type": "code",
   "execution_count": 10,
   "metadata": {},
   "outputs": [
    {
     "data": {
      "image/png": "[encoded data removed]",
      "text/latex": [
       "$\\displaystyle \\left[\\begin{matrix}-2 & -1 & 3 & -5 & 0 & 0 & 0 & 0\\\\1 & 2 & 2 & 4 & 1 & 0 & 0 & 40\\\\2 & -1 & 1 & 2 & 0 & 1 & 0 & 8\\\\4 & -2 & 1 & -1 & 0 & 0 & 1 & 10\\end{matrix}\\right]$"
      ],
      "text/plain": [
       "⎡-2  -1  3  -5  0  0  0  0 ⎤\n",
       "⎢                          ⎥\n",
       "⎢1   2   2  4   1  0  0  40⎥\n",
       "⎢                          ⎥\n",
       "⎢2   -1  1  2   0  1  0  8 ⎥\n",
       "⎢                          ⎥\n",
       "⎣4   -2  1  -1  0  0  1  10⎦"
      ]
     },
     "execution_count": 10,
     "metadata": {},
     "output_type": "execute_result"
    }
   ],
   "source": [
    "# problem description using matrix c, b and A\n",
    "A = sp.Matrix([ [1,  2, 2,  4], \\\n",
    "                [2, -1, 1,  2],\\\n",
    "                [4, -2, 1, -1] ]);\n",
    "c = sp.Matrix([2, 1, -3, 5])\n",
    "b = sp.Matrix([40, 8, 10])\n",
    "\n",
    "# creating necessay data\n",
    "no_eq, no_var = A.shape\n",
    "\n",
    "T1 = A.col_insert(no_var, sp.eye(no_eq))\\\n",
    "      .col_insert(no_var + no_eq, b)    \\\n",
    "      .row_insert(0, -c.row_insert(no_var, sp.zeros(no_eq + 1,1)).T)\\\n",
    "      \n",
    "T1"
   ]
  },
  {
   "cell_type": "code",
   "execution_count": 11,
   "metadata": {},
   "outputs": [
    {
     "data": {
      "text/markdown": [
       "|Basic|$x_{1}$|$x_{2}$|$x_{3}$|$x_{4}$|$s_{1}$|$s_{2}$|$s_{3}$|Solution|Ratio|\n",
       "|-----|-----|-----|-----|-----|-----|-----|-----|-----|-----|\n",
       "|$z$|$-2$|$-1$|$3$|$-5$|$0$|$0$|$0$|$0$|\n",
       "|$s_{1}$|$1$|$2$|$2$|$4$|$1$|$0$|$0$|$40$|\n",
       "|$s_{2}$|$2$|$-1$|$1$|$2$|$0$|$1$|$0$|$8$|\n",
       "|$s_{3}$|$4$|$-2$|$1$|$-1$|$0$|$0$|$1$|$10$|\n"
      ],
      "text/plain": [
       "<IPython.core.display.Markdown object>"
      ]
     },
     "metadata": {},
     "output_type": "display_data"
    }
   ],
   "source": [
    "x1, x2, x3, x4 = sp.symbols(\"x1:5\")\n",
    "s1, s2, s3 = sp.symbols(\"s1:4\")\n",
    "z = sp.symbols(\"z\")\n",
    "\n",
    "var = [x1, x2, x3, x4, s1, s2, s3]\n",
    "basic1 = [z, s1, s2, s3]\n",
    "\n",
    "create_table(T1, basic1)"
   ]
  },
  {
   "cell_type": "code",
   "execution_count": 12,
   "metadata": {},
   "outputs": [
    {
     "data": {
      "text/markdown": [
       "|Basic|$x_{1}$|$x_{2}$|$x_{3}$|$x_{4}$|$s_{1}$|$s_{2}$|$s_{3}$|Solution|Ratio|\n",
       "|-----|-----|-----|-----|-----|-----|-----|-----|-----|-----|\n",
       "|$z$|$-2$|$-1$|$3$|$-5$|$0$|$0$|$0$|$0$|$0$|\n",
       "|$s_{1}$|$1$|$2$|$2$|$4$|$1$|$0$|$0$|$40$|$10$|\n",
       "|$s_{2}$|$2$|$-1$|$1$|$2$|$0$|$1$|$0$|$8$|$4$|\n",
       "|$s_{3}$|$4$|$-2$|$1$|$-1$|$0$|$0$|$1$|$10$|$-10$|\n"
      ],
      "text/plain": [
       "<IPython.core.display.Markdown object>"
      ]
     },
     "metadata": {},
     "output_type": "display_data"
    }
   ],
   "source": [
    "ratio_analysis(T1, basic1, x4)"
   ]
  },
  {
   "cell_type": "code",
   "execution_count": 13,
   "metadata": {},
   "outputs": [
    {
     "data": {
      "text/markdown": [
       "|Basic|$x_{1}$|$x_{2}$|$x_{3}$|$x_{4}$|$s_{1}$|$s_{2}$|$s_{3}$|Solution|Ratio|\n",
       "|-----|-----|-----|-----|-----|-----|-----|-----|-----|-----|\n",
       "|$z$|$3$|$- \\frac{7}{2}$|$\\frac{11}{2}$|$0$|$0$|$\\frac{5}{2}$|$0$|$20$|\n",
       "|$s_{1}$|$-3$|$4$|$0$|$0$|$1$|$-2$|$0$|$24$|\n",
       "|$x_{4}$|$1$|$- \\frac{1}{2}$|$\\frac{1}{2}$|$1$|$0$|$\\frac{1}{2}$|$0$|$4$|\n",
       "|$s_{3}$|$5$|$- \\frac{5}{2}$|$\\frac{3}{2}$|$0$|$0$|$\\frac{1}{2}$|$1$|$14$|\n"
      ],
      "text/plain": [
       "<IPython.core.display.Markdown object>"
      ]
     },
     "metadata": {},
     "output_type": "display_data"
    }
   ],
   "source": [
    "T2, basic2 = pivoting(T1, basic1, x4, s2)\n",
    "create_table(T2, basic2)"
   ]
  },
  {
   "cell_type": "code",
   "execution_count": 14,
   "metadata": {},
   "outputs": [
    {
     "data": {
      "text/markdown": [
       "|Basic|$x_{1}$|$x_{2}$|$x_{3}$|$x_{4}$|$s_{1}$|$s_{2}$|$s_{3}$|Solution|Ratio|\n",
       "|-----|-----|-----|-----|-----|-----|-----|-----|-----|-----|\n",
       "|$z$|$3$|$- \\frac{7}{2}$|$\\frac{11}{2}$|$0$|$0$|$\\frac{5}{2}$|$0$|$20$|$- \\frac{40}{7}$|\n",
       "|$s_{1}$|$-3$|$4$|$0$|$0$|$1$|$-2$|$0$|$24$|$6$|\n",
       "|$x_{4}$|$1$|$- \\frac{1}{2}$|$\\frac{1}{2}$|$1$|$0$|$\\frac{1}{2}$|$0$|$4$|$-8$|\n",
       "|$s_{3}$|$5$|$- \\frac{5}{2}$|$\\frac{3}{2}$|$0$|$0$|$\\frac{1}{2}$|$1$|$14$|$- \\frac{28}{5}$|\n"
      ],
      "text/plain": [
       "<IPython.core.display.Markdown object>"
      ]
     },
     "metadata": {},
     "output_type": "display_data"
    }
   ],
   "source": [
    "ratio_analysis(T2, basic2, x2)"
   ]
  },
  {
   "cell_type": "code",
   "execution_count": 15,
   "metadata": {},
   "outputs": [
    {
     "data": {
      "text/markdown": [
       "|Basic|$x_{1}$|$x_{2}$|$x_{3}$|$x_{4}$|$s_{1}$|$s_{2}$|$s_{3}$|Solution|Ratio|\n",
       "|-----|-----|-----|-----|-----|-----|-----|-----|-----|-----|\n",
       "|$z$|$\\frac{3}{8}$|$0$|$\\frac{11}{2}$|$0$|$\\frac{7}{8}$|$\\frac{3}{4}$|$0$|$41$|\n",
       "|$x_{2}$|$- \\frac{3}{4}$|$1$|$0$|$0$|$\\frac{1}{4}$|$- \\frac{1}{2}$|$0$|$6$|\n",
       "|$x_{4}$|$\\frac{5}{8}$|$0$|$\\frac{1}{2}$|$1$|$\\frac{1}{8}$|$\\frac{1}{4}$|$0$|$7$|\n",
       "|$s_{3}$|$\\frac{25}{8}$|$0$|$\\frac{3}{2}$|$0$|$\\frac{5}{8}$|$- \\frac{3}{4}$|$1$|$29$|\n"
      ],
      "text/plain": [
       "<IPython.core.display.Markdown object>"
      ]
     },
     "metadata": {},
     "output_type": "display_data"
    }
   ],
   "source": [
    "T3, basic3 = pivoting(T2, basic2, x2, s1)\n",
    "create_table(T3, basic3)"
   ]
  },
  {
   "cell_type": "markdown",
   "metadata": {},
   "source": [
    "Since all the coefficient corresponding to $z$ is non-negative, hence there will be no entering variable. The simplex algorithm will terminate. The objective is $41$ at the point $(0,6,0,7)$."
   ]
  }
 ],
 "metadata": {
  "hide_input": false,
  "kernelspec": {
   "display_name": "Python 3",
   "language": "python",
   "name": "python3"
  },
  "language_info": {
   "codemirror_mode": {
    "name": "ipython",
    "version": 3
   },
   "file_extension": ".py",
   "mimetype": "text/x-python",
   "name": "python",
   "nbconvert_exporter": "python",
   "pygments_lexer": "ipython3",
   "version": "3.6.10"
  }
 },
 "nbformat": 4,
 "nbformat_minor": 4
}
