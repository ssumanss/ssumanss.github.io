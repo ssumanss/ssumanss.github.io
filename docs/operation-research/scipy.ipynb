{
 "cells": [
  {
   "cell_type": "code",
   "execution_count": 1,
   "metadata": {},
   "outputs": [],
   "source": [
    "from sympy import init_printing\n",
    "from scipy.optimize import linprog\n",
    "from utility import *\n",
    "from IPython.display import Markdown, display, HTML\n",
    "\n",
    "init_printing()"
   ]
  },
  {
   "cell_type": "markdown",
   "metadata": {},
   "source": [
    "The main method to solve linear programming problem in python is given by the following command \n",
    "\n",
    "``` python\n",
    "scipy.optimize.linprog(c, \n",
    "                       A_ub=None, \n",
    "                       b_ub=None, \n",
    "                       A_eq=None, \n",
    "                       b_eq=None, \n",
    "                       bounds=None, \n",
    "                       method='revised simplex', \n",
    "                       callback=None, \n",
    "                       options=None, \n",
    "                       x0=None)\n",
    "```\n",
    "\n",
    "Where the value of each argument is given by comparing the linear programming with the following linear programn\n",
    "\n",
    "$$\n",
    "\\begin{alignat*}{2}\n",
    "    & \\text{minimize: } && c^T x \\\\\n",
    "    & \\text{subject to: } && \n",
    "        \\begin{aligned}[t]\n",
    "            A_{ub}x &\\leq b_{ub} \\\\\n",
    "            A_{eq}x &= b_{eq} \\\\\n",
    "            l\\leq x &\\leq u\n",
    "        \\end{aligned}\n",
    "\\end{alignat*}\n",
    "$$"
   ]
  },
  {
   "attachments": {},
   "cell_type": "markdown",
   "metadata": {},
   "source": [
    "### Example \n",
    "```python\n",
    "c = [-1, 4]\n",
    "A = [[-3, 1], \n",
    "     [1, 2]]\n",
    "b = [6, 4]\n",
    "x0_bounds = (None, None)\n",
    "x1_bounds = (-3, None)\n",
    "\n",
    "res = linprog(c, A_ub=A, b_ub=b, bounds=[x0_bounds, x1_bounds], method='simplex')\n",
    "```"
   ]
  },
  {
   "cell_type": "code",
   "execution_count": 5,
   "metadata": {},
   "outputs": [],
   "source": [
    "c = [-1, 4]\n",
    "A = [[-3, 1], \n",
    "     [1, 2]]\n",
    "b = [6, 4]\n",
    "x0_bounds = (None, None)\n",
    "x1_bounds = (-3, None)\n",
    "\n",
    "res = linprog(c, A_ub=A, b_ub=b, bounds=[x0_bounds, x1_bounds], method='highs')"
   ]
  },
  {
   "cell_type": "code",
   "execution_count": 24,
   "metadata": {},
   "outputs": [
    {
     "data": {
      "text/plain": [
       "       message: The problem is unbounded. (HiGHS Status 10: model_status is Unbounded; primal_status is At upper bound)\n",
       "       success: False\n",
       "        status: 3\n",
       "           fun: None\n",
       "             x: None\n",
       "           nit: 3\n",
       "         lower:  residual: None\n",
       "                marginals: None\n",
       "         upper:  residual: None\n",
       "                marginals: None\n",
       "         eqlin:  residual: None\n",
       "                marginals: None\n",
       "       ineqlin:  residual: None\n",
       "                marginals: None"
      ]
     },
     "metadata": {},
     "output_type": "display_data"
    }
   ],
   "source": [
    "display(res)"
   ]
  },
  {
   "attachments": {},
   "cell_type": "markdown",
   "metadata": {},
   "source": [
    "#### Example 1.a\n",
    "Now let's try to solve the following problem from the assignment \n",
    "\n",
    "\\begin{alignat*}{2}\n",
    "    & \\text{minimize: } && x_1 - 2x_2 - 4x_3 + 2x_4 \\\\\n",
    "    & \\text{subject to: } && \n",
    "        \\begin{aligned}[t]\n",
    "            x_1 - 2x_3 &\\leq 4 \\\\\n",
    "            x_2 - x_4  &\\leq 8 \\\\\n",
    "            -2x_1 + x_2 + 8x_3 + x_4  &\\leq 12  \\\\\n",
    "            x_1,x_2,x_3,x_4     &\\geq 0\n",
    "        \\end{aligned}\n",
    "\\end{alignat*}\n",
    "\n",
    "We have to use the following command to solve this problem "
   ]
  },
  {
   "cell_type": "code",
   "execution_count": 26,
   "metadata": {},
   "outputs": [
    {
     "data": {
      "text/plain": [
       "        message: Optimization terminated successfully. (HiGHS Status 7: Optimal)\n",
       "        success: True\n",
       "         status: 0\n",
       "            fun: -18.0\n",
       "              x: [ 0.000e+00  8.000e+00  5.000e-01  0.000e+00]\n",
       "            nit: 4\n",
       "          lower:  residual: [ 0.000e+00  8.000e+00  5.000e-01  0.000e+00]\n",
       "                 marginals: [ 0.000e+00  0.000e+00  0.000e+00  1.000e+00]\n",
       "          upper:  residual: [       inf        inf        inf        inf]\n",
       "                 marginals: [ 0.000e+00  0.000e+00  0.000e+00  0.000e+00]\n",
       "          eqlin:  residual: []\n",
       "                 marginals: []\n",
       "        ineqlin:  residual: [ 5.000e+00  0.000e+00  0.000e+00]\n",
       "                 marginals: [-0.000e+00 -1.500e+00 -5.000e-01]\n",
       " mip_node_count: 0\n",
       " mip_dual_bound: 0.0\n",
       "        mip_gap: 0.0"
      ]
     },
     "metadata": {},
     "output_type": "display_data"
    }
   ],
   "source": [
    "c = [1, -2, -4, 2]\n",
    "A = [[1, 0, -2, 0],\n",
    "     [0, 1, 0, -1],\n",
    "     [-2, 1, 8, 1]]\n",
    "b = [4, 8, 12]\n",
    "res = linprog(c, A_ub=A, b_ub=b, method='highs'); \n",
    "display(res)"
   ]
  },
  {
   "cell_type": "markdown",
   "metadata": {},
   "source": [
    "We can use a small function to extract the important information and print in a line as follows."
   ]
  },
  {
   "cell_type": "code",
   "execution_count": 8,
   "metadata": {},
   "outputs": [
    {
     "data": {
      "text/markdown": [
       "The value of optimal is $-18$ at $(0,8,1/2,0)$"
      ],
      "text/plain": [
       "<IPython.core.display.Markdown object>"
      ]
     },
     "execution_count": 8,
     "metadata": {},
     "output_type": "execute_result"
    }
   ],
   "source": [
    "Markdown(fancy_output(res))"
   ]
  },
  {
   "attachments": {},
   "cell_type": "markdown",
   "metadata": {},
   "source": [
    "#### Example 1.b\n",
    "\n",
    "We can solve the second assignment \n",
    "\n",
    "\\begin{alignat*}{2}\n",
    "& \\text{minimize: } && 2x-y+2z \\\\\n",
    "& \\text{subject to: } && \n",
    "    \\begin{aligned}[t]\n",
    "        2x + y  &\\leq 10 \\\\\n",
    "        x+2y-2z &\\leq 20 \\\\\n",
    "        y+2z    &\\leq 5  \\\\\n",
    "        x,y,z   &\\geq 0\n",
    "    \\end{aligned}\n",
    "\\end{alignat*}"
   ]
  },
  {
   "cell_type": "code",
   "execution_count": 10,
   "metadata": {},
   "outputs": [
    {
     "data": {
      "text/markdown": [
       "The value of optimal is $-5$ at $(0,5,0)$"
      ],
      "text/plain": [
       "<IPython.core.display.Markdown object>"
      ]
     },
     "execution_count": 10,
     "metadata": {},
     "output_type": "execute_result"
    }
   ],
   "source": [
    "c = [2, -1, 2]\n",
    "A = [[2, 1, 0],\n",
    "     [1, 2, -2],\n",
    "     [0, 1, 2]]\n",
    "b = [10, 20, 5]\n",
    "res = linprog(c, A_ub=A, b_ub=b, method='highs')\n",
    "Markdown(fancy_output(res))"
   ]
  },
  {
   "attachments": {},
   "cell_type": "markdown",
   "metadata": {},
   "source": [
    "#### Example 1.c\n",
    "\n",
    "We can solve the second assignment \n",
    "\n",
    "\\begin{alignat*}{2}\n",
    "    & \\text{maximize: } && x_1 + 2x_2 + 2x_3, \\\\\n",
    "    & \\text{subject to: } && \n",
    "        \\begin{aligned}[t]\n",
    "            5x_1 + 2x_2 + 3x_3  &\\leq 15 \\\\\n",
    "            x_1  + 4x_2 + 2x_3  &\\leq 12 \\\\\n",
    "            2x_1        + x_3   &\\leq 8  \\\\\n",
    "            x_1,x_2,x_3     &\\geq 0\n",
    "        \\end{aligned}\n",
    "\\end{alignat*} "
   ]
  },
  {
   "cell_type": "code",
   "execution_count": 11,
   "metadata": {},
   "outputs": [
    {
     "data": {
      "text/markdown": [
       "The value of optimal is $21/2$ at $(0,3/4,9/2)$"
      ],
      "text/plain": [
       "<IPython.core.display.Markdown object>"
      ]
     },
     "execution_count": 11,
     "metadata": {},
     "output_type": "execute_result"
    }
   ],
   "source": [
    "# Convert the objective to negative array\n",
    "c = [-1, -2, -2]\n",
    "A = [[5, 2, 3],\n",
    "     [1,4, 2],\n",
    "     [2, 0, 1]]\n",
    "b = [15, 12, 8]\n",
    "res = linprog(c, A_ub=A, b_ub=b, method='highs')\n",
    "Markdown(fancy_output(res, maximize=True))"
   ]
  },
  {
   "attachments": {},
   "cell_type": "markdown",
   "metadata": {},
   "source": [
    "#### Example 2.a\n",
    "\n",
    "We can solve the second assignment \n",
    "\n",
    "\\begin{alignat*}{2}\n",
    "    & \\text{maximize: } &&  3x_1 - x_2 \\\\\n",
    "    & \\text{subject to: } && \n",
    "        \\begin{aligned}[t]\n",
    "            2x_1 + x_2 &\\geq 2 \\\\\n",
    "            x_1 + 3x_2 &\\leq 2 \\\\\n",
    "            x_2 &\\leq 4 \\\\\n",
    "            x_1,x_2     &\\geq 0\n",
    "        \\end{aligned}\n",
    "\\end{alignat*}"
   ]
  },
  {
   "cell_type": "code",
   "execution_count": 12,
   "metadata": {},
   "outputs": [
    {
     "data": {
      "text/markdown": [
       "The value of optimal is $6$ at $(2,0)$"
      ],
      "text/plain": [
       "<IPython.core.display.Markdown object>"
      ]
     },
     "execution_count": 12,
     "metadata": {},
     "output_type": "execute_result"
    }
   ],
   "source": [
    "# Convert the objective to negative array\n",
    "c = [-3, -1]\n",
    "A = [[-2, -1],\n",
    "     [1, 3],\n",
    "     [0, 1]]\n",
    "b = [-2, 2, 4]\n",
    "res = linprog(c, A_ub=A, b_ub=b, method='highs')\n",
    "Markdown(fancy_output(res, maximize=True))"
   ]
  },
  {
   "attachments": {},
   "cell_type": "markdown",
   "metadata": {},
   "source": [
    "#### Example 5.a\n",
    "\n",
    "We can solve the second assignment \n",
    "\n",
    "\\begin{alignat*}{2}\n",
    "    & \\text{maximize: } &&  2x+4y \\\\\n",
    "    & \\text{subject to: } && \n",
    "        \\begin{aligned}[t]\n",
    "             x + 2y &\\leq 5 \\\\\n",
    "             x +  y &\\leq 4 \\\\\n",
    "            x, y    &\\geq 0\n",
    "        \\end{aligned}\n",
    "\\end{alignat*}"
   ]
  },
  {
   "cell_type": "code",
   "execution_count": 13,
   "metadata": {},
   "outputs": [
    {
     "data": {
      "text/markdown": [
       "The value of optimal is $10$ at $(0,5/2)$"
      ],
      "text/plain": [
       "<IPython.core.display.Markdown object>"
      ]
     },
     "execution_count": 13,
     "metadata": {},
     "output_type": "execute_result"
    }
   ],
   "source": [
    "# Convert the objective to negative array\n",
    "c = [-2, -4]\n",
    "A = [[1, 2],\n",
    "     [1, 1]]\n",
    "b = [5, 4]\n",
    "res = linprog(c, A_ub=A, b_ub=b, method='highs')\n",
    "Markdown(fancy_output(res, maximize=True))"
   ]
  },
  {
   "attachments": {},
   "cell_type": "markdown",
   "metadata": {},
   "source": [
    "#### Example 4\n",
    "\n",
    "Consider the following linear programming problem\n",
    "\n",
    "\\begin{alignat*}{2}\n",
    "    & \\text{maximize: } &&  3x+2y \\\\\n",
    "    & \\text{subject to: } && \n",
    "        \\begin{aligned}[t]\n",
    "            4x - y &\\leq 4 \\\\\n",
    "            4x +3y &\\leq 6 \\\\\n",
    "            4x + y &\\leq 4 \\\\\n",
    "            x, y   &\\geq 0\n",
    "        \\end{aligned}\n",
    "\\end{alignat*}  "
   ]
  },
  {
   "cell_type": "code",
   "execution_count": 14,
   "metadata": {},
   "outputs": [
    {
     "data": {
      "text/markdown": [
       "The value of optimal is $17/4$ at $(6755399441055743/9007199254740992,4503599627370497/4503599627370496)$"
      ],
      "text/plain": [
       "<IPython.core.display.Markdown object>"
      ]
     },
     "execution_count": 14,
     "metadata": {},
     "output_type": "execute_result"
    }
   ],
   "source": [
    "c = [-3, -2]\n",
    "A = [[4, -1],\n",
    "     [4, 3],\n",
    "     [4, 1]]\n",
    "b = [4, 6, 4]\n",
    "res = linprog(c, A_ub=A, b_ub=b, method='highs')\n",
    "Markdown(fancy_output(res, maximize=True))"
   ]
  },
  {
   "attachments": {},
   "cell_type": "markdown",
   "metadata": {},
   "source": [
    "#### Example 6.b\n",
    "Show that the following problem has unbounded objective\n",
    "\n",
    "\\begin{alignat*}{2}\n",
    "& \\text{maximize: } && 20x_1 + 5x_2 + x_3 \\\\\n",
    "& \\text{subject to: } && \n",
    "    \\begin{aligned}[t]\n",
    "        3x_1 + 5x_2 - 5x_3  &\\leq 50 \\\\\n",
    "        x_1 + 3x_2 - 4x_3   &\\leq 20 \\\\\n",
    "        x_1                 &\\leq 10 \\\\\n",
    "            x_1, x_2, x_3     &\\geq 0\n",
    "    \\end{aligned}\n",
    "\\end{alignat*}  \n"
   ]
  },
  {
   "cell_type": "code",
   "execution_count": 20,
   "metadata": {},
   "outputs": [
    {
     "data": {
      "text/plain": [
       "'The problem is unbounded. (HiGHS Status 10: model_status is Unbounded; primal_status is At upper bound)'"
      ]
     },
     "execution_count": 20,
     "metadata": {},
     "output_type": "execute_result"
    }
   ],
   "source": [
    "c = [-20, -5, -1]\n",
    "A = [[3, 5, -5],\n",
    "    [1, 3, -4],\n",
    "    [1, 0, 0]]\n",
    "b = [50, 20, 10]\n",
    "res = linprog(c, A_ub=A, b_ub=b, method='highs')\n",
    "res.message"
   ]
  },
  {
   "attachments": {},
   "cell_type": "markdown",
   "metadata": {},
   "source": [
    "#### Example 3.b\n",
    "Consider the following problem, in the phase I, the artificial variable didn't leave but assumes the value $0$, hence we can remove it and continue with phase II\n",
    "\n",
    "\\begin{alignat*}{2}\n",
    "& \\text{maximize: } && 2x_1 + 2x_2 + 4 x_3 \\\\\n",
    "& \\text{subject to: } && \n",
    "    \\begin{aligned}[t]\n",
    "          2x_1 + x_2 + x_3 &\\leq 2 \\\\\n",
    "        3x_1 + 4x_2 + 2x_3  &\\geq 8 \\\\\n",
    "          x_1, x_2, x_3     &\\geq 0\n",
    "    \\end{aligned}\n",
    "\\end{alignat*}   \n"
   ]
  },
  {
   "cell_type": "code",
   "execution_count": 12,
   "metadata": {},
   "outputs": [
    {
     "data": {
      "text/markdown": [
       "The value of optimal is $4$ at $(0,2,0)$"
      ],
      "text/plain": [
       "<IPython.core.display.Markdown object>"
      ]
     },
     "execution_count": 12,
     "metadata": {},
     "output_type": "execute_result"
    }
   ],
   "source": [
    "c = [-2, -2, -4]\n",
    "A = [\n",
    "    [2, 1, 1],\n",
    "    [-3, -4, -2]\n",
    "]\n",
    "b = [2, -8]\n",
    "res = linprog(c, A_ub=A, b_ub=b, method='simplex')\n",
    "Markdown(fancy_output(res, maximize=True))"
   ]
  }
 ],
 "metadata": {
  "hide_input": false,
  "kernelspec": {
   "display_name": "scicomp",
   "language": "python",
   "name": "python3"
  },
  "language_info": {
   "codemirror_mode": {
    "name": "ipython",
    "version": 3
   },
   "file_extension": ".py",
   "mimetype": "text/x-python",
   "name": "python",
   "nbconvert_exporter": "python",
   "pygments_lexer": "ipython3",
   "version": "3.9.6"
  },
  "vscode": {
   "interpreter": {
    "hash": "9b733d72b17296582f1bb5e80a1d85270ec152e004798ee39c967e4424e61c85"
   }
  }
 },
 "nbformat": 4,
 "nbformat_minor": 2
}
